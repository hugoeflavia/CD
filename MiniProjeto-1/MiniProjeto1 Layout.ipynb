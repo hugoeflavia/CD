{
 "cells": [
  {
   "cell_type": "markdown",
   "metadata": {},
   "source": [
    "___\n",
    "# MINIPROJETO 1"
   ]
  },
  {
   "cell_type": "markdown",
   "metadata": {},
   "source": [
    "## <font color='red'>Hugo Mendes</font>\n",
    "___"
   ]
  },
  {
   "cell_type": "markdown",
   "metadata": {},
   "source": [
    "## <font color='blue'>Consumo de petroleo e GNL mensal no Brasil</font>"
   ]
  },
  {
   "cell_type": "markdown",
   "metadata": {},
   "source": [
    "___\n",
    "### Itens 1 a 4 - Resolução:"
   ]
  },
  {
   "cell_type": "code",
   "execution_count": 2,
   "metadata": {
    "collapsed": false
   },
   "outputs": [
    {
     "name": "stdout",
     "output_type": "stream",
     "text": [
      "Esperamos trabalhar no diretório\n",
      "C:\\Users\\Hugo\\Desktop\\Mini projeto 1\n"
     ]
    }
   ],
   "source": [
    "%matplotlib inline\n",
    "import pandas as pd\n",
    "import matplotlib.pyplot as plt\n",
    "import numpy as np\n",
    "import os\n",
    "from scipy import stats\n",
    "\n",
    "print('Esperamos trabalhar no diretório')\n",
    "print(os.getcwd())"
   ]
  },
  {
   "cell_type": "code",
   "execution_count": 3,
   "metadata": {
    "collapsed": false,
    "scrolled": true
   },
   "outputs": [
    {
     "data": {
      "text/html": [
       "<div>\n",
       "<table border=\"1\" class=\"dataframe\">\n",
       "  <thead>\n",
       "    <tr style=\"text-align: right;\">\n",
       "      <th></th>\n",
       "      <th>Dados</th>\n",
       "      <th>v2000</th>\n",
       "      <th>v2001</th>\n",
       "      <th>v2002</th>\n",
       "      <th>v2003</th>\n",
       "      <th>v2004</th>\n",
       "      <th>v2005</th>\n",
       "      <th>v2006</th>\n",
       "      <th>v2007</th>\n",
       "      <th>v2008</th>\n",
       "      <th>v2009</th>\n",
       "      <th>v2010</th>\n",
       "      <th>v2011</th>\n",
       "      <th>v2012</th>\n",
       "      <th>v2013</th>\n",
       "      <th>v2014</th>\n",
       "      <th>v2015</th>\n",
       "      <th>v2016</th>\n",
       "    </tr>\n",
       "  </thead>\n",
       "  <tbody>\n",
       "    <tr>\n",
       "      <th>0</th>\n",
       "      <td>Janeiro</td>\n",
       "      <td>5690793.34</td>\n",
       "      <td>6498404.66</td>\n",
       "      <td>7106895.01</td>\n",
       "      <td>7409792.40</td>\n",
       "      <td>7182535.00</td>\n",
       "      <td>7382253.80</td>\n",
       "      <td>8321361.670</td>\n",
       "      <td>8557459.820</td>\n",
       "      <td>8.753001e+06</td>\n",
       "      <td>9.310661e+06</td>\n",
       "      <td>9.841034e+06</td>\n",
       "      <td>1.045986e+07</td>\n",
       "      <td>1.099352e+07</td>\n",
       "      <td>1.012133e+07</td>\n",
       "      <td>1.011622e+07</td>\n",
       "      <td>1.217101e+07</td>\n",
       "      <td>1.159717e+07</td>\n",
       "    </tr>\n",
       "    <tr>\n",
       "      <th>1</th>\n",
       "      <td>Fevereiro</td>\n",
       "      <td>5167309.70</td>\n",
       "      <td>5971240.00</td>\n",
       "      <td>6389095.20</td>\n",
       "      <td>6872129.83</td>\n",
       "      <td>6694563.89</td>\n",
       "      <td>6644406.78</td>\n",
       "      <td>7533460.170</td>\n",
       "      <td>7827167.336</td>\n",
       "      <td>8.169007e+06</td>\n",
       "      <td>8.493596e+06</td>\n",
       "      <td>8.977144e+06</td>\n",
       "      <td>9.179919e+06</td>\n",
       "      <td>1.016670e+07</td>\n",
       "      <td>8.980299e+06</td>\n",
       "      <td>9.302576e+06</td>\n",
       "      <td>1.082354e+07</td>\n",
       "      <td>1.076592e+07</td>\n",
       "    </tr>\n",
       "    <tr>\n",
       "      <th>2</th>\n",
       "      <td>Março</td>\n",
       "      <td>5861503.84</td>\n",
       "      <td>6211220.00</td>\n",
       "      <td>7179072.11</td>\n",
       "      <td>7453190.48</td>\n",
       "      <td>7294742.00</td>\n",
       "      <td>7581901.50</td>\n",
       "      <td>8358066.892</td>\n",
       "      <td>8719200.490</td>\n",
       "      <td>8.624510e+06</td>\n",
       "      <td>9.577172e+06</td>\n",
       "      <td>1.003841e+07</td>\n",
       "      <td>1.026154e+07</td>\n",
       "      <td>1.028759e+07</td>\n",
       "      <td>9.130967e+06</td>\n",
       "      <td>1.044198e+07</td>\n",
       "      <td>1.189352e+07</td>\n",
       "      <td>1.115948e+07</td>\n",
       "    </tr>\n",
       "    <tr>\n",
       "      <th>3</th>\n",
       "      <td>Abril</td>\n",
       "      <td>5538707.20</td>\n",
       "      <td>6052810.00</td>\n",
       "      <td>7007921.28</td>\n",
       "      <td>7250213.73</td>\n",
       "      <td>6911528.00</td>\n",
       "      <td>7995070.12</td>\n",
       "      <td>8286098.270</td>\n",
       "      <td>8294578.630</td>\n",
       "      <td>8.573236e+06</td>\n",
       "      <td>9.256419e+06</td>\n",
       "      <td>9.907401e+06</td>\n",
       "      <td>9.786788e+06</td>\n",
       "      <td>9.641935e+06</td>\n",
       "      <td>9.171083e+06</td>\n",
       "      <td>1.023631e+07</td>\n",
       "      <td>1.141933e+07</td>\n",
       "      <td>1.092309e+07</td>\n",
       "    </tr>\n",
       "    <tr>\n",
       "      <th>4</th>\n",
       "      <td>Maio</td>\n",
       "      <td>5713178.09</td>\n",
       "      <td>5920527.00</td>\n",
       "      <td>7305932.80</td>\n",
       "      <td>7332230.94</td>\n",
       "      <td>7001749.20</td>\n",
       "      <td>8324683.79</td>\n",
       "      <td>8615745.101</td>\n",
       "      <td>8506144.230</td>\n",
       "      <td>8.947344e+06</td>\n",
       "      <td>9.636554e+06</td>\n",
       "      <td>1.022786e+07</td>\n",
       "      <td>1.021019e+07</td>\n",
       "      <td>1.009262e+07</td>\n",
       "      <td>9.824229e+06</td>\n",
       "      <td>1.079054e+07</td>\n",
       "      <td>1.188826e+07</td>\n",
       "      <td>1.225798e+07</td>\n",
       "    </tr>\n",
       "    <tr>\n",
       "      <th>5</th>\n",
       "      <td>Junho</td>\n",
       "      <td>5764512.63</td>\n",
       "      <td>6173469.00</td>\n",
       "      <td>7166751.30</td>\n",
       "      <td>6545204.61</td>\n",
       "      <td>7066628.00</td>\n",
       "      <td>8100731.00</td>\n",
       "      <td>7776547.270</td>\n",
       "      <td>8507653.465</td>\n",
       "      <td>8.727800e+06</td>\n",
       "      <td>9.146200e+06</td>\n",
       "      <td>9.784466e+06</td>\n",
       "      <td>1.019267e+07</td>\n",
       "      <td>9.695665e+06</td>\n",
       "      <td>1.002073e+07</td>\n",
       "      <td>1.071018e+07</td>\n",
       "      <td>1.142787e+07</td>\n",
       "      <td>1.220287e+07</td>\n",
       "    </tr>\n",
       "    <tr>\n",
       "      <th>6</th>\n",
       "      <td>Julho</td>\n",
       "      <td>5851190.49</td>\n",
       "      <td>6428124.00</td>\n",
       "      <td>7164729.06</td>\n",
       "      <td>7349096.34</td>\n",
       "      <td>7458958.00</td>\n",
       "      <td>8282310.00</td>\n",
       "      <td>8502762.550</td>\n",
       "      <td>8742542.777</td>\n",
       "      <td>8.993784e+06</td>\n",
       "      <td>9.456357e+06</td>\n",
       "      <td>1.013167e+07</td>\n",
       "      <td>1.023613e+07</td>\n",
       "      <td>9.971773e+06</td>\n",
       "      <td>9.731279e+06</td>\n",
       "      <td>1.117455e+07</td>\n",
       "      <td>1.215376e+07</td>\n",
       "      <td>1.272008e+07</td>\n",
       "    </tr>\n",
       "    <tr>\n",
       "      <th>7</th>\n",
       "      <td>Agosto</td>\n",
       "      <td>5876615.85</td>\n",
       "      <td>6338025.00</td>\n",
       "      <td>7413678.58</td>\n",
       "      <td>7595172.73</td>\n",
       "      <td>7403277.11</td>\n",
       "      <td>8013086.00</td>\n",
       "      <td>8393093.870</td>\n",
       "      <td>8666584.365</td>\n",
       "      <td>9.073102e+06</td>\n",
       "      <td>9.661504e+06</td>\n",
       "      <td>1.024239e+07</td>\n",
       "      <td>1.011374e+07</td>\n",
       "      <td>9.877331e+06</td>\n",
       "      <td>9.911445e+06</td>\n",
       "      <td>1.146550e+07</td>\n",
       "      <td>1.255259e+07</td>\n",
       "      <td>NaN</td>\n",
       "    </tr>\n",
       "    <tr>\n",
       "      <th>8</th>\n",
       "      <td>Setembro</td>\n",
       "      <td>6196036.17</td>\n",
       "      <td>6223285.40</td>\n",
       "      <td>7085701.59</td>\n",
       "      <td>7261755.74</td>\n",
       "      <td>7264852.38</td>\n",
       "      <td>7950711.00</td>\n",
       "      <td>8265597.430</td>\n",
       "      <td>8234482.782</td>\n",
       "      <td>8.857868e+06</td>\n",
       "      <td>9.504934e+06</td>\n",
       "      <td>9.528102e+06</td>\n",
       "      <td>1.001243e+07</td>\n",
       "      <td>9.175222e+06</td>\n",
       "      <td>9.987346e+06</td>\n",
       "      <td>1.124912e+07</td>\n",
       "      <td>1.142477e+07</td>\n",
       "      <td>NaN</td>\n",
       "    </tr>\n",
       "    <tr>\n",
       "      <th>9</th>\n",
       "      <td>Outubro</td>\n",
       "      <td>6476596.98</td>\n",
       "      <td>5806609.00</td>\n",
       "      <td>7286273.26</td>\n",
       "      <td>7390238.89</td>\n",
       "      <td>7396430.07</td>\n",
       "      <td>8233697.00</td>\n",
       "      <td>8683793.280</td>\n",
       "      <td>8315685.251</td>\n",
       "      <td>9.032539e+06</td>\n",
       "      <td>9.810383e+06</td>\n",
       "      <td>9.845848e+06</td>\n",
       "      <td>1.037345e+07</td>\n",
       "      <td>9.912636e+06</td>\n",
       "      <td>1.024538e+07</td>\n",
       "      <td>1.179453e+07</td>\n",
       "      <td>1.186046e+07</td>\n",
       "      <td>NaN</td>\n",
       "    </tr>\n",
       "    <tr>\n",
       "      <th>10</th>\n",
       "      <td>Novembro</td>\n",
       "      <td>6513555.00</td>\n",
       "      <td>6384420.36</td>\n",
       "      <td>6676712.79</td>\n",
       "      <td>7062968.33</td>\n",
       "      <td>6927262.75</td>\n",
       "      <td>7985490.00</td>\n",
       "      <td>8425352.380</td>\n",
       "      <td>8162620.676</td>\n",
       "      <td>8.619957e+06</td>\n",
       "      <td>9.474178e+06</td>\n",
       "      <td>9.963874e+06</td>\n",
       "      <td>1.043814e+07</td>\n",
       "      <td>9.752828e+06</td>\n",
       "      <td>9.926112e+06</td>\n",
       "      <td>1.124574e+07</td>\n",
       "      <td>1.134942e+07</td>\n",
       "      <td>NaN</td>\n",
       "    </tr>\n",
       "    <tr>\n",
       "      <th>11</th>\n",
       "      <td>Dezembro</td>\n",
       "      <td>6993695.00</td>\n",
       "      <td>7011827.23</td>\n",
       "      <td>6616203.30</td>\n",
       "      <td>7297703.21</td>\n",
       "      <td>7364453.24</td>\n",
       "      <td>8302392.85</td>\n",
       "      <td>8808734.566</td>\n",
       "      <td>8902508.759</td>\n",
       "      <td>9.080024e+06</td>\n",
       "      <td>9.852167e+06</td>\n",
       "      <td>1.074471e+07</td>\n",
       "      <td>1.091200e+07</td>\n",
       "      <td>1.037335e+07</td>\n",
       "      <td>1.039582e+07</td>\n",
       "      <td>1.230787e+07</td>\n",
       "      <td>1.248102e+07</td>\n",
       "      <td>NaN</td>\n",
       "    </tr>\n",
       "  </tbody>\n",
       "</table>\n",
       "</div>"
      ],
      "text/plain": [
       "        Dados       v2000       v2001       v2002       v2003       v2004  \\\n",
       "0     Janeiro  5690793.34  6498404.66  7106895.01  7409792.40  7182535.00   \n",
       "1   Fevereiro  5167309.70  5971240.00  6389095.20  6872129.83  6694563.89   \n",
       "2       Março  5861503.84  6211220.00  7179072.11  7453190.48  7294742.00   \n",
       "3       Abril  5538707.20  6052810.00  7007921.28  7250213.73  6911528.00   \n",
       "4        Maio  5713178.09  5920527.00  7305932.80  7332230.94  7001749.20   \n",
       "5       Junho  5764512.63  6173469.00  7166751.30  6545204.61  7066628.00   \n",
       "6       Julho  5851190.49  6428124.00  7164729.06  7349096.34  7458958.00   \n",
       "7      Agosto  5876615.85  6338025.00  7413678.58  7595172.73  7403277.11   \n",
       "8    Setembro  6196036.17  6223285.40  7085701.59  7261755.74  7264852.38   \n",
       "9     Outubro  6476596.98  5806609.00  7286273.26  7390238.89  7396430.07   \n",
       "10   Novembro  6513555.00  6384420.36  6676712.79  7062968.33  6927262.75   \n",
       "11   Dezembro  6993695.00  7011827.23  6616203.30  7297703.21  7364453.24   \n",
       "\n",
       "         v2005        v2006        v2007         v2008         v2009  \\\n",
       "0   7382253.80  8321361.670  8557459.820  8.753001e+06  9.310661e+06   \n",
       "1   6644406.78  7533460.170  7827167.336  8.169007e+06  8.493596e+06   \n",
       "2   7581901.50  8358066.892  8719200.490  8.624510e+06  9.577172e+06   \n",
       "3   7995070.12  8286098.270  8294578.630  8.573236e+06  9.256419e+06   \n",
       "4   8324683.79  8615745.101  8506144.230  8.947344e+06  9.636554e+06   \n",
       "5   8100731.00  7776547.270  8507653.465  8.727800e+06  9.146200e+06   \n",
       "6   8282310.00  8502762.550  8742542.777  8.993784e+06  9.456357e+06   \n",
       "7   8013086.00  8393093.870  8666584.365  9.073102e+06  9.661504e+06   \n",
       "8   7950711.00  8265597.430  8234482.782  8.857868e+06  9.504934e+06   \n",
       "9   8233697.00  8683793.280  8315685.251  9.032539e+06  9.810383e+06   \n",
       "10  7985490.00  8425352.380  8162620.676  8.619957e+06  9.474178e+06   \n",
       "11  8302392.85  8808734.566  8902508.759  9.080024e+06  9.852167e+06   \n",
       "\n",
       "           v2010         v2011         v2012         v2013         v2014  \\\n",
       "0   9.841034e+06  1.045986e+07  1.099352e+07  1.012133e+07  1.011622e+07   \n",
       "1   8.977144e+06  9.179919e+06  1.016670e+07  8.980299e+06  9.302576e+06   \n",
       "2   1.003841e+07  1.026154e+07  1.028759e+07  9.130967e+06  1.044198e+07   \n",
       "3   9.907401e+06  9.786788e+06  9.641935e+06  9.171083e+06  1.023631e+07   \n",
       "4   1.022786e+07  1.021019e+07  1.009262e+07  9.824229e+06  1.079054e+07   \n",
       "5   9.784466e+06  1.019267e+07  9.695665e+06  1.002073e+07  1.071018e+07   \n",
       "6   1.013167e+07  1.023613e+07  9.971773e+06  9.731279e+06  1.117455e+07   \n",
       "7   1.024239e+07  1.011374e+07  9.877331e+06  9.911445e+06  1.146550e+07   \n",
       "8   9.528102e+06  1.001243e+07  9.175222e+06  9.987346e+06  1.124912e+07   \n",
       "9   9.845848e+06  1.037345e+07  9.912636e+06  1.024538e+07  1.179453e+07   \n",
       "10  9.963874e+06  1.043814e+07  9.752828e+06  9.926112e+06  1.124574e+07   \n",
       "11  1.074471e+07  1.091200e+07  1.037335e+07  1.039582e+07  1.230787e+07   \n",
       "\n",
       "           v2015         v2016  \n",
       "0   1.217101e+07  1.159717e+07  \n",
       "1   1.082354e+07  1.076592e+07  \n",
       "2   1.189352e+07  1.115948e+07  \n",
       "3   1.141933e+07  1.092309e+07  \n",
       "4   1.188826e+07  1.225798e+07  \n",
       "5   1.142787e+07  1.220287e+07  \n",
       "6   1.215376e+07  1.272008e+07  \n",
       "7   1.255259e+07           NaN  \n",
       "8   1.142477e+07           NaN  \n",
       "9   1.186046e+07           NaN  \n",
       "10  1.134942e+07           NaN  \n",
       "11  1.248102e+07           NaN  "
      ]
     },
     "execution_count": 3,
     "metadata": {},
     "output_type": "execute_result"
    }
   ],
   "source": [
    "Data = pd.read_excel(\"Data.xlsx\")\n",
    "Data"
   ]
  },
  {
   "cell_type": "code",
   "execution_count": 4,
   "metadata": {
    "collapsed": false
   },
   "outputs": [],
   "source": [
    "stack = Data.stack()"
   ]
  },
  {
   "cell_type": "code",
   "execution_count": 5,
   "metadata": {
    "collapsed": false
   },
   "outputs": [
    {
     "data": {
      "text/plain": [
       "Dados        Outubro\n",
       "v2000     6.4766e+06\n",
       "v2001    5.80661e+06\n",
       "v2002    7.28627e+06\n",
       "v2003    7.39024e+06\n",
       "v2004    7.39643e+06\n",
       "v2005     8.2337e+06\n",
       "v2006    8.68379e+06\n",
       "v2007    8.31569e+06\n",
       "v2008    9.03254e+06\n",
       "v2009    9.81038e+06\n",
       "v2010    9.84585e+06\n",
       "v2011    1.03734e+07\n",
       "v2012    9.91264e+06\n",
       "v2013    1.02454e+07\n",
       "v2014    1.17945e+07\n",
       "v2015    1.18605e+07\n",
       "dtype: object"
      ]
     },
     "execution_count": 5,
     "metadata": {},
     "output_type": "execute_result"
    },
    {
     "data": {
      "image/png": "[encoded data removed]",
      "text/plain": [
       "<matplotlib.figure.Figure at 0x1a8cac025c0>"
      ]
     },
     "metadata": {},
     "output_type": "display_data"
    }
   ],
   "source": [
    "list = []\n",
    "for i in range(1,16):\n",
    "    for n in range(1,12):\n",
    "        list.append(stack[n][i])\n",
    "Meses = pd.DataFrame()\n",
    "Meses[\"Mes\"] = list\n",
    "meugrafico = Meses.plot.hist(bins=range(5000000,12000000,300000))\n",
    "plt.title(\"histograma de produção de petróleo e GNL\")\n",
    "\n",
    "stack[9]"
   ]
  },
  {
   "cell_type": "markdown",
   "metadata": {
    "collapsed": true
   },
   "source": [
    "Pretendo ultilizar as distribuiçoes Normal Mista e Beta para produzir o modelo teorico."
   ]
  },
  {
   "cell_type": "markdown",
   "metadata": {},
   "source": [
    "# Itens 5 a 7"
   ]
  },
  {
   "cell_type": "markdown",
   "metadata": {},
   "source": [
    " ao começar a desenvolver o modelo percebi que estaria fora do meu alcance modelar a função normal mista, portanto fui atrás de uma nova distribuição que se encaixasse bem com o modelo, a distribuição student t. Assim como a beta não é a mais adequada mas servirá para o propósito desta atividade."
   ]
  },
  {
   "cell_type": "code",
   "execution_count": 6,
   "metadata": {
    "collapsed": false,
    "scrolled": true
   },
   "outputs": [
    {
     "data": {
      "image/png": "[encoded data removed]",
      "text/plain": [
       "<matplotlib.figure.Figure at 0x1a8c9668dd8>"
      ]
     },
     "metadata": {},
     "output_type": "display_data"
    }
   ],
   "source": [
    "%matplotlib inline\n",
    "from scipy.stats import beta\n",
    "import matplotlib.pyplot as plt\n",
    "import numpy as np\n",
    "from scipy.stats import t\n",
    "a, b = 4.5,4.5\n",
    "mean, var, skew, kurt = beta.stats(a, b, moments='mvsk')\n",
    "x = np.linspace(beta.ppf(0.0, a, b), beta.ppf(1, a, b), 100)\n",
    "mod1 = plt.plot(x, beta.pdf(x, a, b), label='beta pdf')\n",
    "plt.plot(x, beta.pdf(x, a, b), label='beta pdf')\n",
    "\n",
    "a, b = 5,2\n",
    "mean, var, skew, kurt = beta.stats(a, b, moments='mvsk')\n",
    "x = np.linspace(beta.ppf(0.18, a, b), beta.ppf(1, a, b), 100)\n",
    "plt.plot(x, beta.pdf(x, a, b,), label='beta pdf')\n",
    "mod2 = plt.plot(x, beta.pdf(x, a, b,), label='beta pdf',color='green')\n",
    "a, b = 2,3\n",
    "mean, var, skew, kurt = beta.stats(a, b, moments='mvsk')\n",
    "x = np.linspace(beta.ppf(0.0, a, b), beta.ppf(0.77, a, b), 100)\n",
    "plt.plot(x, beta.pdf(x, a, b,), label='beta pdf',color='green')\n",
    "mod21 = plt.plot(x, beta.pdf(x, a, b,), label='beta pdf',color='green')\n",
    "plt.title('Modelo Beta normal e modelo beta em duas partes')\n",
    "plt.show()"
   ]
  },
  {
   "cell_type": "markdown",
   "metadata": {},
   "source": [
    "Aqui tive a idéia de alem de plotar a função beta normalmente ( o que não me satisfeze nem um pouco) manipular essa distribuição afim de ficar parecida com uma distribuição normal mista, que se encaixa muito mais com a amostra."
   ]
  },
  {
   "cell_type": "code",
   "execution_count": 7,
   "metadata": {
    "collapsed": false
   },
   "outputs": [
    {
     "data": {
      "image/png": "[encoded data removed]",
      "text/plain": [
       "<matplotlib.figure.Figure at 0x1a8cb015710>"
      ]
     },
     "metadata": {},
     "output_type": "display_data"
    }
   ],
   "source": [
    "#Meses.plot.hist(bins=range(5000000,12000000,300000))\n",
    "plt.hist((Meses.Mes/15000000), 20, normed=1, facecolor='red', alpha=0.5)\n",
    "\n",
    "a, b = 4.5,4.5\n",
    "mean, var, skew, kurt = beta.stats(a, b, moments='mvsk')\n",
    "x = np.linspace(beta.ppf(0.0, a, b), beta.ppf(1, a, b), 100)\n",
    "#mod1 = plt.plot(x, beta.pdf(x, a, b), label='beta pdf')\n",
    "plt.plot(x, beta.pdf(x, a, b,scale = 0.5,loc = 0.32), label='beta pdf')\n",
    "\n",
    "a, b = 5,2.8\n",
    "mean, var, skew, kurt = beta.stats(a, b, moments='mvsk')\n",
    "x = np.linspace(beta.ppf(0.31, a, b), beta.ppf(1, a, b), 100)\n",
    "mod2 = plt.plot(x, beta.pdf(x, a, b,scale = 0.5,loc = 0.3), label='beta pdf',color='blue')\n",
    "\n",
    "a, b = 3,4\n",
    "mean, var, skew, kurt = beta.stats(a, b, moments='mvsk')\n",
    "x = np.linspace(beta.ppf(0.0, a, b), beta.ppf(0.77, a, b), 100)\n",
    "\n",
    "mod21 = plt.plot(x, beta.pdf(x, a, b,scale = 0.5,loc = 0.3), label='beta pdf',color='blue')\n",
    "plt.title('histograma em relação aos modelos com paramêtros estimados')\n",
    "plt.show()"
   ]
  },
  {
   "cell_type": "markdown",
   "metadata": {},
   "source": [
    "Esse é o resultado ja comparando com os dados da amostra, veja que o gráfico em azul tende a seguir mais adequadamente a trajetória do gráfico, apesar de ainda haver um erro consideravelmente grande. O em verde ( beta normal) tem um erro mais acentuado n pico e na parte esquerda, ambos os modelos podem ser consdierados ruins, mas para um histograma estranho como esse, ambos são uma aproximação razoável."
   ]
  },
  {
   "cell_type": "code",
   "execution_count": 8,
   "metadata": {
    "collapsed": false
   },
   "outputs": [
    {
     "data": {
      "text/plain": [
       "(2.4896356223811837,\n",
       " 2.8967097450460946,\n",
       " 3.2595422284787543,\n",
       " 5.1736344485284533)"
      ]
     },
     "execution_count": 8,
     "metadata": {},
     "output_type": "execute_result"
    }
   ],
   "source": [
    "data = Meses.Mes/1500000\n",
    "beta.fit(data)"
   ]
  },
  {
   "cell_type": "code",
   "execution_count": 9,
   "metadata": {
    "collapsed": false
   },
   "outputs": [
    {
     "data": {
      "text/plain": [
       "(2.0498181787593639, 1.9256823595654293, 0.0, 1.0)"
      ]
     },
     "execution_count": 9,
     "metadata": {},
     "output_type": "execute_result"
    }
   ],
   "source": [
    "fit = beta.fit(data,loc=0.5,scale=0.32)\n",
    "beta.fit(data,loc=0,scale=1)"
   ]
  },
  {
   "cell_type": "code",
   "execution_count": 10,
   "metadata": {
    "collapsed": false
   },
   "outputs": [
    {
     "data": {
      "image/png": "[encoded data removed]",
      "text/plain": [
       "<matplotlib.figure.Figure at 0x1a8cb018710>"
      ]
     },
     "metadata": {},
     "output_type": "display_data"
    }
   ],
   "source": [
    "\n",
    "\n",
    "a, b = fit[0],fit[1]\n",
    "mean, var, skew, kurt = beta.stats(a, b, moments='mvsk')\n",
    "x = np.linspace(beta.ppf(0.0, a, b), beta.ppf(1, a, b), 100)\n",
    "#mod1 = plt.plot(x, beta.pdf(x, a, b), label='beta pdf')\n",
    "plt.plot(x, beta.pdf(x, a, b,scale = 0.5,loc = 0.32), label='beta pdf',color='green')\n",
    "plt.title('distribuição beta com fit()')\n",
    "plt.show()"
   ]
  },
  {
   "cell_type": "code",
   "execution_count": 11,
   "metadata": {
    "collapsed": false
   },
   "outputs": [
    {
     "data": {
      "text/plain": [
       "(7586344.4089521691, 5.6588822131851053, 1.0225186377204349)"
      ]
     },
     "execution_count": 11,
     "metadata": {},
     "output_type": "execute_result"
    }
   ],
   "source": [
    "fit = t.fit(data)\n",
    "t.fit(data,loc=0,scale=1)"
   ]
  },
  {
   "cell_type": "code",
   "execution_count": 12,
   "metadata": {
    "collapsed": false
   },
   "outputs": [
    {
     "data": {
      "image/png": "[encoded data removed]",
      "text/plain": [
       "<matplotlib.figure.Figure at 0x1a8cc545320>"
      ]
     },
     "metadata": {},
     "output_type": "display_data"
    }
   ],
   "source": [
    "a, b = fit[1],fit[2]\n",
    "mean, var, skew, kurt = beta.stats(a, b, moments='mvsk')\n",
    "x = np.linspace(t.ppf(0.01, a, b), t.ppf(0.99, a, b), 100)\n",
    "plt.plot(x, t.pdf(x,fit[0] ,scale = fit[1],loc = fit[2]), label='beta pdf',color='green')\n",
    "plt.title('distribuição t student com fit()')\n",
    "\n",
    "plt.show()"
   ]
  },
  {
   "cell_type": "code",
   "execution_count": 13,
   "metadata": {
    "collapsed": false
   },
   "outputs": [
    {
     "data": {
      "image/png": "[encoded data removed]",
      "text/plain": [
       "<matplotlib.figure.Figure at 0x1a8cc666780>"
      ]
     },
     "metadata": {},
     "output_type": "display_data"
    }
   ],
   "source": [
    "fit = beta.fit(data,loc=0.5,scale=0.32)\n",
    "beta.fit(data,loc=0,scale=1)\n",
    "#Meses.plot.hist(bins=range(5000000,12000000,300000))\n",
    "plt.hist((Meses.Mes/15000000), 20, normed=1, facecolor='red', alpha=0.5)\n",
    "\n",
    "a, b = fit[0],fit[1]\n",
    "mean, var, skew, kurt = beta.stats(a, b, moments='mvsk')\n",
    "x = np.linspace(beta.ppf(0.0, a, b), beta.ppf(1, a, b), 100)\n",
    "#mod1 = plt.plot(x, beta.pdf(x, a, b), label='beta pdf')\n",
    "plt.plot(x, beta.pdf(x, a, b,scale = 0.5,loc = 0.32), label='beta pdf',color='green')\n",
    "\n",
    "\n",
    "fit = t.fit(data)\n",
    "t.fit(data,loc=0,scale=1)\n",
    "\n",
    "mean, var, skew, kurt = beta.stats(a, b, moments='mvsk')\n",
    "x = np.linspace(t.ppf(0, fit[0]), t.ppf(1, fit[0]), 100)\n",
    "plt.plot(x, t.pdf(x,fit[0] ,scale = fit[0],loc = fit[1]), label='beta pdf',color='blue')\n",
    "\n",
    "\n",
    "plt.show()"
   ]
  },
  {
   "cell_type": "markdown",
   "metadata": {},
   "source": [
    "Como pedido, o paramêtro fit foi ultilizado, a margem de erro ainda está grande, mas se parar para comparar com a nossa antiga beta vs histograma é percepítivel que com o fit o erro concentra-se basicamente nos valores máximos. Não estou conseguindo plotar a distribuição t student junto, peço desculpas.\n",
    "Como no item 5 eu manipulei a função beta em duas partes com paramêtros diferentes para ficar condizente com a amostra, eu ainda fico com as estimativas feitas no item 5. Mas fica a nota de que em uma amostra com um comportamento \"normal\" eu não exitaria em escolher os parâmetros que o metódo fit() me retornou."
   ]
  },
  {
   "cell_type": "markdown",
   "metadata": {},
   "source": [
    "# Itens 8 a 11"
   ]
  },
  {
   "cell_type": "markdown",
   "metadata": {},
   "source": [
    "QQ- Plot "
   ]
  },
  {
   "cell_type": "code",
   "execution_count": 15,
   "metadata": {
    "collapsed": false
   },
   "outputs": [
    {
     "data": {
      "text/plain": [
       "[]"
      ]
     },
     "execution_count": 15,
     "metadata": {},
     "output_type": "execute_result"
    },
    {
     "data": {
      "image/png": "[encoded data removed]",
      "text/plain": [
       "<matplotlib.figure.Figure at 0x1a8cc998470>"
      ]
     },
     "metadata": {},
     "output_type": "display_data"
    }
   ],
   "source": [
    "tempos = pd.Series(data=sorted(Meses.Mes/1500000))\n",
    "\n",
    "# Calcula a frequência relativa acumulada com os dados vindos dos arquivos\n",
    "fra = [] # frequencia relativa acumulada\n",
    "for i in range(len(tempos)):\n",
    "    acc = (i - 0.5) / len(tempos)\n",
    "    if acc < 0:\n",
    "        acc = 0\n",
    "    fra.append(acc) # ver Magalhães e Lima (pag. 195)\n",
    "\n",
    "# Convertemos fra em uma Series do Pandas\n",
    "fra = pd.Series(data=fra)\n",
    "\n",
    "# Gera os valores dos quantis teóricos para as distribuições analisadas\n",
    "fit = beta.fit(data)\n",
    "a, b = fit[0],fit[1]\n",
    "q_Wei = beta.ppf(fra,a,b,3.1,5.5) # quantis teóricos da exponencial\n",
    "\n",
    "\n",
    "fit = t.fit(data)\n",
    "t.fit(data,loc=0,scale=1)\n",
    "q_gamma = t.ppf(fra,fit[0], scale=fit[2], loc=fit[1])\n",
    "\n",
    "\n",
    "fig = plt.figure(figsize=(12,8))\n",
    "\n",
    "exp_plot, = plt.plot(tempos, q_Wei, 'o', color=\"red\", label=\"Beta\")\n",
    "gamma_plot, = plt.plot(tempos, q_gamma, 'o', color=\"green\", label = \"T student\")\n",
    "\n",
    "plt.legend(handles=[exp_plot, gamma_plot])\n",
    "plt.plot((min(tempos), max(tempos)), (min(tempos), max(tempos)), '-')\n",
    "\n",
    "\n",
    "for i in range(len(tempos)):\n",
    "    plt.plot((tempos[i], tempos[i]), (q_Wei[i], tempos[i]), '-', color='red', alpha=0.3  )\n",
    "    plt.plot((tempos[i], tempos[i]), (q_gamma[i], tempos[i]), '-', color='green', alpha=0.3  )\n",
    "plt.plot()"
   ]
  },
  {
   "cell_type": "markdown",
   "metadata": {},
   "source": [
    "Aqui percebemos que tanto o comportamento de Beta quanto de T parecem deslocar-se de forma semelhante ao longo  da reta azul ( que seriam nossos dados),porém, caso tivesse de ser feito algum chute nesse momento sobre qual modelo parece condizer melhor com os dados, eu ficaria com a função Beta!"
   ]
  },
  {
   "cell_type": "code",
   "execution_count": 27,
   "metadata": {
    "collapsed": false
   },
   "outputs": [
    {
     "data": {
      "text/plain": [
       "<matplotlib.text.Text at 0x1a8ce649a90>"
      ]
     },
     "execution_count": 27,
     "metadata": {},
     "output_type": "execute_result"
    },
    {
     "data": {
      "image/png": "[encoded data removed]",
      "text/plain": [
       "<matplotlib.figure.Figure at 0x1a8ce5c81d0>"
      ]
     },
     "metadata": {},
     "output_type": "display_data"
    }
   ],
   "source": [
    "fit = beta.fit(data,loc=0.5,scale=0.32)\n",
    "beta.fit(data,loc=0,scale=1)\n",
    "a, b = fit[0],fit[1]\n",
    "mean, var, skew, kurt = beta.stats(a, b, moments='mvsk')\n",
    "x = np.linspace(beta.ppf(0.0, a, b), beta.ppf(1, a, b), 100)\n",
    "plt.plot(x,beta.cdf(x, a, b, loc=0, scale=1), label='beta cdf',color='blue')\n",
    "cdf_beta = beta.cdf(x, a, b, loc=0, scale=1)\n",
    "plt.title(\"Beta CDF\")\n"
   ]
  },
  {
   "cell_type": "code",
   "execution_count": null,
   "metadata": {
    "collapsed": true
   },
   "outputs": [],
   "source": []
  },
  {
   "cell_type": "code",
   "execution_count": 17,
   "metadata": {
    "collapsed": false
   },
   "outputs": [
    {
     "data": {
      "text/plain": [
       "(18395045.208250958, 5.6589188967753685, 1.0225287946369424)"
      ]
     },
     "execution_count": 17,
     "metadata": {},
     "output_type": "execute_result"
    }
   ],
   "source": [
    "t.fit(data)"
   ]
  },
  {
   "cell_type": "code",
   "execution_count": 26,
   "metadata": {
    "collapsed": false
   },
   "outputs": [
    {
     "data": {
      "text/plain": [
       "<matplotlib.text.Text at 0x1a8ce5d2e80>"
      ]
     },
     "execution_count": 26,
     "metadata": {},
     "output_type": "execute_result"
    },
    {
     "data": {
      "image/png": "[encoded data removed]",
      "text/plain": [
       "<matplotlib.figure.Figure at 0x1a8ce5b9da0>"
      ]
     },
     "metadata": {},
     "output_type": "display_data"
    }
   ],
   "source": [
    "fit = t.fit(data)\n",
    "\n",
    "mean, var, skew, kurt = beta.stats(a, b, moments='mvsk')\n",
    "x = np.linspace(t.ppf(0.01, a, b), t.ppf(0.99, a, b), 100)\n",
    "plt.plot(x, t.cdf(x,fit[0] ,scale = fit[2],loc = fit[1]), label='t cdf',color='green')\n",
    "cdf_t =  t.cdf(x,fit[0] ,scale = fit[2],loc = fit[1])\n",
    "plt.title('T cdf')\n",
    "\n"
   ]
  },
  {
   "cell_type": "code",
   "execution_count": null,
   "metadata": {
    "collapsed": true
   },
   "outputs": [],
   "source": []
  },
  {
   "cell_type": "code",
   "execution_count": 19,
   "metadata": {
    "collapsed": false
   },
   "outputs": [
    {
     "data": {
      "image/png": "[encoded data removed]",
      "text/plain": [
       "<matplotlib.figure.Figure at 0x1a8cc9676a0>"
      ]
     },
     "metadata": {},
     "output_type": "display_data"
    }
   ],
   "source": [
    "import numpy as np\n",
    "import statsmodels.api as sm # recommended import according to the docs\n",
    "import matplotlib.pyplot as plt\n",
    "\n",
    "sample = Meses.Mes/1500000\n",
    "ecdf = sm.distributions.ECDF(sample)\n",
    "\n",
    "x = np.linspace(min(sample), max(sample))\n",
    "y = ecdf(x)\n",
    "plt.step(x, y)\n",
    "plt.title('CDF da amostra')\n",
    "plt.show()\n"
   ]
  },
  {
   "cell_type": "markdown",
   "metadata": {},
   "source": [
    " Agora vamos plotar todas juntas  e comparar!!!"
   ]
  },
  {
   "cell_type": "code",
   "execution_count": 20,
   "metadata": {
    "collapsed": false
   },
   "outputs": [
    {
     "data": {
      "image/png": "[encoded data removed]",
      "text/plain": [
       "<matplotlib.figure.Figure at 0x1a8cd3f1898>"
      ]
     },
     "metadata": {},
     "output_type": "display_data"
    }
   ],
   "source": [
    "fit = beta.fit(data,loc=0.5,scale=0.32)\n",
    "a, b = fit[0],fit[1]\n",
    "mean, var, skew, kurt = beta.stats(a, b, moments='mvsk')\n",
    "x = np.linspace(beta.ppf(0, a, b), beta.ppf(1, a, b), 100)\n",
    "plt.plot(x,beta.cdf(x, a, b, loc=0, scale=1), label='beta cdf',color='blue')\n",
    "fit = t.fit(data)\n",
    "\n",
    "mean, var, skew, kurt = beta.stats(a, b, moments='mvsk')\n",
    "x = np.linspace(t.ppf(0.01, a, b), t.ppf(0.99, a, b), 100)\n",
    "plt.plot(x, t.cdf(x,fit[0] ,scale = fit[2],loc = fit[1]), label='t cdf',color='green')\n",
    "\n",
    "\n",
    "sample = Meses.Mes/1500000\n",
    "ecdf = sm.distributions.ECDF(sample)\n",
    "x = np.linspace(min(sample), max(sample))\n",
    "y = ecdf(x)\n",
    "plt.step(x, y)\n",
    "plt.title('Comparação de CDF da amostra x beta x t')\n",
    "plt.show()\n",
    "\n",
    "\n"
   ]
  },
  {
   "cell_type": "markdown",
   "metadata": {},
   "source": [
    " Não consegui entender o erro de escala que houve com o cdf de Beta, mas analisando o Cdf dos dados juntos junto com a da distribuição t student, percebe-se que as duas se conversam bem, mais uma vez andamos mais um passo para dizer que esse modelo de distribuição e os parametros ultilziados são apropriados."
   ]
  },
  {
   "cell_type": "markdown",
   "metadata": {},
   "source": [
    "Para os nossos testes de aderência vamos ultilizar os Testes de aderência que usam a diferença entre quantis."
   ]
  },
  {
   "cell_type": "code",
   "execution_count": 31,
   "metadata": {
    "collapsed": false
   },
   "outputs": [
    {
     "name": "stdout",
     "output_type": "stream",
     "text": [
      "Erro quadrático da forma beta :3.015\n",
      "\n",
      "Erro quadrático da forma t student : inf\n",
      "\n"
     ]
    }
   ],
   "source": [
    "erro_quadratico_exponencial = sum((tempos - q_Wei)**2)\n",
    "erro_quadratico_gamma = sum((tempos - q_gamma)**2)\n",
    "\n",
    "print(\"Erro quadrático da forma beta :{:4.3f}\\n\".format(erro_quadratico_exponencial))\n",
    "print(\"Erro quadrático da forma t student :{:4.3f}\\n\".format(erro_quadratico_gamma))\n",
    "erros_beta = []\n",
    "erros_t = []\n",
    "erros_beta.append(erro_quadratico_exponencial)\n",
    "erros_t.append(erro_quadratico_gamma)\n"
   ]
  },
  {
   "cell_type": "code",
   "execution_count": null,
   "metadata": {
    "collapsed": true
   },
   "outputs": [],
   "source": []
  },
  {
   "cell_type": "code",
   "execution_count": 32,
   "metadata": {
    "collapsed": false
   },
   "outputs": [
    {
     "name": "stdout",
     "output_type": "stream",
     "text": [
      "Erro quadratico médio da forma beta : 0.0182700778319\n",
      "Erro quadratico médio da forma t student : inf\n"
     ]
    }
   ],
   "source": [
    "eqm_exp = erro_quadratico_exponencial/len(tempos)\n",
    "eqm_gamma = erro_quadratico_gamma/len(tempos)\n",
    "\n",
    "print(\"Erro quadratico médio da forma beta :\", eqm_exp)\n",
    "print(\"Erro quadratico médio da forma t student :\", eqm_gamma)\n",
    "erros_beta.append(eqm_exp)\n",
    "erros_t.append(eqm_gamma)"
   ]
  },
  {
   "cell_type": "code",
   "execution_count": 33,
   "metadata": {
    "collapsed": false
   },
   "outputs": [
    {
     "name": "stdout",
     "output_type": "stream",
     "text": [
      "Soma de diferenças da forma beta : 18.8206484049\n",
      "Soma de diferenças da forma t student : inf\n"
     ]
    }
   ],
   "source": [
    "soma_diferenças_exponencial = sum(abs(tempos - q_Wei))\n",
    "soma_diferenças_gamma = sum(abs(tempos - q_gamma))\n",
    "\n",
    "print(\"Soma de diferenças da forma beta :\", soma_diferenças_exponencial)\n",
    "print(\"Soma de diferenças da forma t student :\", soma_diferenças_gamma)\n",
    "\n",
    "erros_beta.append(soma_diferenças_exponencial)\n",
    "erros_t.append(soma_diferenças_gamma)\n"
   ]
  },
  {
   "cell_type": "code",
   "execution_count": 34,
   "metadata": {
    "collapsed": false
   },
   "outputs": [
    {
     "data": {
      "text/html": [
       "<div>\n",
       "<table border=\"1\" class=\"dataframe\">\n",
       "  <thead>\n",
       "    <tr style=\"text-align: right;\">\n",
       "      <th></th>\n",
       "      <th>Erros Beta</th>\n",
       "      <th>Erros T</th>\n",
       "    </tr>\n",
       "  </thead>\n",
       "  <tbody>\n",
       "    <tr>\n",
       "      <th>0</th>\n",
       "      <td>3.014563</td>\n",
       "      <td>inf</td>\n",
       "    </tr>\n",
       "    <tr>\n",
       "      <th>1</th>\n",
       "      <td>0.018270</td>\n",
       "      <td>inf</td>\n",
       "    </tr>\n",
       "    <tr>\n",
       "      <th>2</th>\n",
       "      <td>18.820648</td>\n",
       "      <td>inf</td>\n",
       "    </tr>\n",
       "  </tbody>\n",
       "</table>\n",
       "</div>"
      ],
      "text/plain": [
       "   Erros Beta  Erros T\n",
       "0    3.014563      inf\n",
       "1    0.018270      inf\n",
       "2   18.820648      inf"
      ]
     },
     "execution_count": 34,
     "metadata": {},
     "output_type": "execute_result"
    }
   ],
   "source": [
    "tabela = pd.DataFrame()\n",
    "tabela['Erros Beta'] = erros_beta\n",
    "tabela['Erros T'] =  erros_t\n",
    "tabela\n"
   ]
  },
  {
   "cell_type": "markdown",
   "metadata": {},
   "source": [
    "Esse seria o momento em que eu deveria dar o veredíto final sobre qual o melhor modelo probabilístico, função Beta, ou função t student, mas por algum motivo que eu não estou conseguindo descobrir, os valores dos erros de t, estão dando \"inf\", e eu não consigo comparar os resultados entre os modelos. "
   ]
  },
  {
   "cell_type": "markdown",
   "metadata": {},
   "source": [
    "Como não posso terminar esse mini_projeto sem escolher uma distribuição, eu fico com a Beta, pois tenho seus valores ( que me parecem razoáveis) e se formos analisar o QQ-plot feito as distribuições Beta e T, eu ja desconfiava que a forma Beta parecia ter um ajuste melhor sobre nossos dados reais."
   ]
  },
  {
   "cell_type": "code",
   "execution_count": null,
   "metadata": {
    "collapsed": true
   },
   "outputs": [],
   "source": []
  }
 ],
 "metadata": {
  "anaconda-cloud": {},
  "kernelspec": {
   "display_name": "Python 3",
   "language": "python",
   "name": "python3"
  },
  "language_info": {
   "codemirror_mode": {
    "name": "ipython",
    "version": 3
   },
   "file_extension": ".py",
   "mimetype": "text/x-python",
   "name": "python",
   "nbconvert_exporter": "python",
   "pygments_lexer": "ipython3",
   "version": "3.5.2"
  }
 },
 "nbformat": 4,
 "nbformat_minor": 0
}
