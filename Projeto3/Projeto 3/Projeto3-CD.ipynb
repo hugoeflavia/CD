{
 "cells": [
  {
   "cell_type": "markdown",
   "metadata": {},
   "source": [
    "<img src=\"Electuse-cholesterol.png\"/, width=500, height=500 style=\"float: center; margin: 0px 0px 10px 10px\">"
   ]
  },
  {
   "cell_type": "markdown",
   "metadata": {
    "collapsed": true
   },
   "source": [
    "<img src=\"Electuse-foodsupply.png\"/, width=500, height=500 style=\"float: center; margin: 0px 0px 10px 10px\">"
   ]
  },
  {
   "cell_type": "markdown",
   "metadata": {
    "collapsed": true
   },
   "source": [
    "<img src=\"Electuse-GDPcapita.png\"/, width=500, height=500 style=\"float: center; margin: 0px 0px 10px 10px\">"
   ]
  },
  {
   "cell_type": "markdown",
   "metadata": {
    "collapsed": true
   },
   "source": [
    "<img src=\"ElectuseLOG-IDH.png\"/, width=500, height=500 style=\"float: center; margin: 0px 0px 10px 10px\">"
   ]
  },
  {
   "cell_type": "markdown",
   "metadata": {
    "collapsed": true
   },
   "source": [
    "<img src=\"Electuse-intenet.png\"/, width=500, height=500 style=\"float: center; margin: 0px 0px 10px 10px\">"
   ]
  },
  {
   "cell_type": "code",
   "execution_count": null,
   "metadata": {
    "collapsed": true
   },
   "outputs": [],
   "source": []
  }
 ],
 "metadata": {
  "kernelspec": {
   "display_name": "Python 3",
   "language": "python",
   "name": "python3"
  },
  "language_info": {
   "codemirror_mode": {
    "name": "ipython",
    "version": 3
   },
   "file_extension": ".py",
   "mimetype": "text/x-python",
   "name": "python",
   "nbconvert_exporter": "python",
   "pygments_lexer": "ipython3",
   "version": "3.5.2"
  }
 },
 "nbformat": 4,
 "nbformat_minor": 0
}
