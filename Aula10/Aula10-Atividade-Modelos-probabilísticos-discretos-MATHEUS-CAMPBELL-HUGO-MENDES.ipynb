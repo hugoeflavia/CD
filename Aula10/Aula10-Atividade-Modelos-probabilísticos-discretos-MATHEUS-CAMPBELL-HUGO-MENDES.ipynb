{
 "cells": [
  {
   "cell_type": "markdown",
   "metadata": {},
   "source": [
    "___\n",
    "# Atividade: Modelos probabilísticos discretos e Dados\n",
    "___\n",
    "\n",
    "## Aula 10\n",
    "\n",
    "**Referência de Leitura:**\n",
    "1. Magalhães e Lima (7ª. Edição): Seções 3.2 e 3.3\n",
    "\n",
    "**Hoje:**\n",
    "1.\tDescrever modelos discretos quanto aos resultados teóricos.\n",
    "2.\tExplicar a utilização de modelos probabilísticos no contexto da literatura estatística.\n",
    "3.\tContrastar resultados teóricos e empíricos.\n",
    "4.\tFechamento do conteúdo.\n",
    "\n",
    "**Próxima aula:**\n",
    "1. Leitura prévia necessária: Magalhães e Lima (7ª. Edição): Seção 5.1 (pág. 137) e Seção 5.2 (pág. 146).\n",
    "___"
   ]
  },
  {
   "cell_type": "code",
   "execution_count": 27,
   "metadata": {
    "collapsed": true
   },
   "outputs": [],
   "source": [
    "%matplotlib inline\n",
    "import pandas as pd\n",
    "import matplotlib.pyplot as plt\n",
    "import numpy as np\n",
    "\n",
    "from scipy import stats #importa apenas as funções de estatísticas da biblioteca SciPy.\n",
    "import itertools #importante para gerar todos os resultados possíveis!!\n"
   ]
  },
  {
   "cell_type": "markdown",
   "metadata": {},
   "source": [
    "___\n",
    "## <font color='blue'>Exercício 1</font>\n",
    "\n",
    "Um resistor de 100K Ohms comprado na Santa Efigênia tem probabilidade de falha de 5%, segundo um fabricante ruim.\n",
    "\n",
    "Ainda, assuma os resistores falham de forma independente entre si.\n",
    "\n",
    "Um aluno de engenharia compra um pacote contendo $n$ resistores.\n",
    "\n",
    "1. Assuma $n=3$ e faça os itens a seguir.\n",
    "  1. Monte o espaço amostral que combine todos os resultados possíveis de Falha e não Falha desses $n$ resistores. Ainda, calcule a probabilidade de cada resultado do espaço amostral acontecer.\n",
    "  2. Se $Y$ representa o número de resistores que falham em um pacotinho com $n$ resistores, então construa a distribuição de probabilidades de $Y$.\n",
    "  3. Calcule a média e o desvio padrão de $Y$. Interprete os resultados.\n",
    "    \n",
    "2. Assuma $n=7$ e repita os itens A) a C) anteriores. No caso de $n=7$ ou maiores quantidades de resistores em um pacotinho, qual a viabilidade de construir a distribuição de probabilidades do número de resistores com defeitos quando $n$ não é pequeno?\n",
    "    \n",
    "3. Encontre a distribuição de probabilidades de cada possível valor de $Y$ utilizando a distribuição Binomial para $n=3$ e $n=7$. Calcule também $E(X)$ e $Var(X)$. Compare com as distribuições de probabilidades obtidas nos itens anteriores e discuta porque esses valores são iguais ou diferentes!\n",
    "    \n",
    "> **DISTRIBUIÇÃO BINOMIAL - TEORIA:**\n",
    "\n",
    "> É responsável por modelar uma variável $Y$ definida pelo Número de sucessos em $n$ tentativas, cuja probabilidade de sucesso é dada por $p$. Assim, dizemos que $Y$~$Bin(n,p)$ e lê-se: $Y$ segue uma distribuição binomial com $n$ tentativas e $p$ como probabilidade de sucesso. \n",
    "\n",
    "> A função de probabilidade nesse caso é dada por:\n",
    "$P(Y=y)=\\left(\n",
    "\\begin{array}{c}\n",
    "    n \\\\\n",
    "    y\n",
    "\\end{array}\\right) p^y (1-p)^{(n-y)}$\n",
    "\n",
    "> Para um experimento ter as probabilidade dos números de sucessos modeladas por uma distribuição Binomial, o mesmo precisa ter as seguintes propriedades:\n",
    "* é uma contagem de $n$ repetições (ou tentativas ou ensaios) idênticas;\n",
    "* cada repetição tem apenas 2 resultados possíveis: um é denominado sucesso e o outro, fracasso;\n",
    "* a probabilidade de sucesso para cada ensaio é denominada $p$ e será constante em cada repetição. Então, a probabilidade de fracasso $(1-p)$ também não varia de tentativa para tentativa;\n",
    "* As tentativas são independentes.\n",
    "\n",
    "\n",
    "> **DISTRIBUIÇÃO BINOMIAL - PYTHON:** <sup> [https://en.wikipedia.org/wiki/SciPy]\n",
    "\n",
    "> Algumas funções úteis para desenvolver seu código: <sup> [http://docs.scipy.org/doc/scipy-0.16.1/reference/generated/scipy.stats.binom.html]\n",
    "* $P(Y=y)$: `stats.binom.pmf(y, n, p)`\n",
    "* $P(Y\\leq y)$: `stats.binom.cdf(y, n, p)`\n",
    "* $E(X)$ e $Var(X)$: `stats.binom.stats(n, p, moments='mv')`\n"
   ]
  },
  {
   "cell_type": "code",
   "execution_count": 2,
   "metadata": {
    "collapsed": false
   },
   "outputs": [
    {
     "data": {
      "text/plain": [
       "[('N', 'N', 'N'),\n",
       " ('N', 'N', 'F'),\n",
       " ('N', 'F', 'N'),\n",
       " ('N', 'F', 'F'),\n",
       " ('F', 'N', 'N'),\n",
       " ('F', 'N', 'F'),\n",
       " ('F', 'F', 'N'),\n",
       " ('F', 'F', 'F')]"
      ]
     },
     "execution_count": 2,
     "metadata": {},
     "output_type": "execute_result"
    }
   ],
   "source": [
    "import itertools #importante para gerar todos os resultados possíveis!!\n",
    "#item 1\n",
    "possibilidades = [\"N\", \"F\"]\n",
    "prob = {\"N\": 0.95, \"F\":0.05}\n",
    "arranjos = itertools.product(possibilidades, repeat=3)\n",
    "espaco_amostral = list(arranjos)\n",
    "espaco_amostral"
   ]
  },
  {
   "cell_type": "code",
   "execution_count": 3,
   "metadata": {
    "collapsed": false
   },
   "outputs": [
    {
     "data": {
      "text/plain": [
       "[0.8573749999999999,\n",
       " 0.045125,\n",
       " 0.045125,\n",
       " 0.0023750000000000004,\n",
       " 0.045125,\n",
       " 0.0023750000000000004,\n",
       " 0.0023750000000000004,\n",
       " 0.00012500000000000003]"
      ]
     },
     "execution_count": 3,
     "metadata": {},
     "output_type": "execute_result"
    }
   ],
   "source": [
    "prob_linhas = []\n",
    "\n",
    "for res in espaco_amostral:\n",
    "    p = 1.0\n",
    "    for e in res:\n",
    "        p*=prob[e]\n",
    "    prob_linhas.append(p)\n",
    "\n",
    "prob_linhas"
   ]
  },
  {
   "cell_type": "markdown",
   "metadata": {},
   "source": [
    "Y = 0.05*n"
   ]
  },
  {
   "cell_type": "code",
   "execution_count": 4,
   "metadata": {
    "collapsed": true
   },
   "outputs": [],
   "source": [
    "valores_X = {}\n",
    "for i in range(len(espaco_amostral)):\n",
    "    custo = espaco_amostral[i].count(\"F\")\n",
    "    # Checar antes se a chave está no dicionário\n",
    "    if custo in valores_X:\n",
    "        valores_X[custo] += prob_linhas[i]\n",
    "    else:\n",
    "        valores_X[custo] = prob_linhas[i]"
   ]
  },
  {
   "cell_type": "code",
   "execution_count": 5,
   "metadata": {
    "collapsed": false
   },
   "outputs": [
    {
     "name": "stdout",
     "output_type": "stream",
     "text": [
      "N° de resistores que falham:  0  Probabilidade 0.857375 \n",
      "N° de resistores que falham:  1  Probabilidade 0.135375 \n",
      "N° de resistores que falham:  2  Probabilidade 0.007125 \n",
      "N° de resistores que falham:  3  Probabilidade 0.000125 \n"
     ]
    }
   ],
   "source": [
    "for k in valores_X:\n",
    "    print(\"N° de resistores que falham: \", k, \" Probabilidade\", \"%6.6f \"%valores_X[k])"
   ]
  },
  {
   "cell_type": "code",
   "execution_count": 6,
   "metadata": {
    "collapsed": false
   },
   "outputs": [
    {
     "name": "stdout",
     "output_type": "stream",
     "text": [
      "Média: 0.15\n"
     ]
    }
   ],
   "source": [
    "esperanca = 0\n",
    "g = 0\n",
    "for z in valores_X:\n",
    "    esperanca+= valores_X[z] * z\n",
    "print (\"Média:\", esperanca)"
   ]
  },
  {
   "cell_type": "code",
   "execution_count": 7,
   "metadata": {
    "collapsed": false
   },
   "outputs": [
    {
     "name": "stdout",
     "output_type": "stream",
     "text": [
      "Variância: 0.1425\n"
     ]
    }
   ],
   "source": [
    "variancia = 0\n",
    "for i in valores_X:\n",
    "    variancia += ((i-esperanca)**2)*valores_X[i]\n",
    "print (\"Variância:\", variancia)"
   ]
  },
  {
   "cell_type": "code",
   "execution_count": 8,
   "metadata": {
    "collapsed": false
   },
   "outputs": [
    {
     "name": "stdout",
     "output_type": "stream",
     "text": [
      "0.37749172176353746\n"
     ]
    }
   ],
   "source": [
    "dp = variancia**(1/2)\n",
    "print (dp)"
   ]
  },
  {
   "cell_type": "code",
   "execution_count": 9,
   "metadata": {
    "collapsed": false
   },
   "outputs": [
    {
     "data": {
      "text/plain": [
       "[('N', 'N', 'N', 'N', 'N', 'N', 'N'),\n",
       " ('N', 'N', 'N', 'N', 'N', 'N', 'F'),\n",
       " ('N', 'N', 'N', 'N', 'N', 'F', 'N'),\n",
       " ('N', 'N', 'N', 'N', 'N', 'F', 'F'),\n",
       " ('N', 'N', 'N', 'N', 'F', 'N', 'N'),\n",
       " ('N', 'N', 'N', 'N', 'F', 'N', 'F'),\n",
       " ('N', 'N', 'N', 'N', 'F', 'F', 'N'),\n",
       " ('N', 'N', 'N', 'N', 'F', 'F', 'F'),\n",
       " ('N', 'N', 'N', 'F', 'N', 'N', 'N'),\n",
       " ('N', 'N', 'N', 'F', 'N', 'N', 'F'),\n",
       " ('N', 'N', 'N', 'F', 'N', 'F', 'N'),\n",
       " ('N', 'N', 'N', 'F', 'N', 'F', 'F'),\n",
       " ('N', 'N', 'N', 'F', 'F', 'N', 'N'),\n",
       " ('N', 'N', 'N', 'F', 'F', 'N', 'F'),\n",
       " ('N', 'N', 'N', 'F', 'F', 'F', 'N'),\n",
       " ('N', 'N', 'N', 'F', 'F', 'F', 'F'),\n",
       " ('N', 'N', 'F', 'N', 'N', 'N', 'N'),\n",
       " ('N', 'N', 'F', 'N', 'N', 'N', 'F'),\n",
       " ('N', 'N', 'F', 'N', 'N', 'F', 'N'),\n",
       " ('N', 'N', 'F', 'N', 'N', 'F', 'F'),\n",
       " ('N', 'N', 'F', 'N', 'F', 'N', 'N'),\n",
       " ('N', 'N', 'F', 'N', 'F', 'N', 'F'),\n",
       " ('N', 'N', 'F', 'N', 'F', 'F', 'N'),\n",
       " ('N', 'N', 'F', 'N', 'F', 'F', 'F'),\n",
       " ('N', 'N', 'F', 'F', 'N', 'N', 'N'),\n",
       " ('N', 'N', 'F', 'F', 'N', 'N', 'F'),\n",
       " ('N', 'N', 'F', 'F', 'N', 'F', 'N'),\n",
       " ('N', 'N', 'F', 'F', 'N', 'F', 'F'),\n",
       " ('N', 'N', 'F', 'F', 'F', 'N', 'N'),\n",
       " ('N', 'N', 'F', 'F', 'F', 'N', 'F'),\n",
       " ('N', 'N', 'F', 'F', 'F', 'F', 'N'),\n",
       " ('N', 'N', 'F', 'F', 'F', 'F', 'F'),\n",
       " ('N', 'F', 'N', 'N', 'N', 'N', 'N'),\n",
       " ('N', 'F', 'N', 'N', 'N', 'N', 'F'),\n",
       " ('N', 'F', 'N', 'N', 'N', 'F', 'N'),\n",
       " ('N', 'F', 'N', 'N', 'N', 'F', 'F'),\n",
       " ('N', 'F', 'N', 'N', 'F', 'N', 'N'),\n",
       " ('N', 'F', 'N', 'N', 'F', 'N', 'F'),\n",
       " ('N', 'F', 'N', 'N', 'F', 'F', 'N'),\n",
       " ('N', 'F', 'N', 'N', 'F', 'F', 'F'),\n",
       " ('N', 'F', 'N', 'F', 'N', 'N', 'N'),\n",
       " ('N', 'F', 'N', 'F', 'N', 'N', 'F'),\n",
       " ('N', 'F', 'N', 'F', 'N', 'F', 'N'),\n",
       " ('N', 'F', 'N', 'F', 'N', 'F', 'F'),\n",
       " ('N', 'F', 'N', 'F', 'F', 'N', 'N'),\n",
       " ('N', 'F', 'N', 'F', 'F', 'N', 'F'),\n",
       " ('N', 'F', 'N', 'F', 'F', 'F', 'N'),\n",
       " ('N', 'F', 'N', 'F', 'F', 'F', 'F'),\n",
       " ('N', 'F', 'F', 'N', 'N', 'N', 'N'),\n",
       " ('N', 'F', 'F', 'N', 'N', 'N', 'F'),\n",
       " ('N', 'F', 'F', 'N', 'N', 'F', 'N'),\n",
       " ('N', 'F', 'F', 'N', 'N', 'F', 'F'),\n",
       " ('N', 'F', 'F', 'N', 'F', 'N', 'N'),\n",
       " ('N', 'F', 'F', 'N', 'F', 'N', 'F'),\n",
       " ('N', 'F', 'F', 'N', 'F', 'F', 'N'),\n",
       " ('N', 'F', 'F', 'N', 'F', 'F', 'F'),\n",
       " ('N', 'F', 'F', 'F', 'N', 'N', 'N'),\n",
       " ('N', 'F', 'F', 'F', 'N', 'N', 'F'),\n",
       " ('N', 'F', 'F', 'F', 'N', 'F', 'N'),\n",
       " ('N', 'F', 'F', 'F', 'N', 'F', 'F'),\n",
       " ('N', 'F', 'F', 'F', 'F', 'N', 'N'),\n",
       " ('N', 'F', 'F', 'F', 'F', 'N', 'F'),\n",
       " ('N', 'F', 'F', 'F', 'F', 'F', 'N'),\n",
       " ('N', 'F', 'F', 'F', 'F', 'F', 'F'),\n",
       " ('F', 'N', 'N', 'N', 'N', 'N', 'N'),\n",
       " ('F', 'N', 'N', 'N', 'N', 'N', 'F'),\n",
       " ('F', 'N', 'N', 'N', 'N', 'F', 'N'),\n",
       " ('F', 'N', 'N', 'N', 'N', 'F', 'F'),\n",
       " ('F', 'N', 'N', 'N', 'F', 'N', 'N'),\n",
       " ('F', 'N', 'N', 'N', 'F', 'N', 'F'),\n",
       " ('F', 'N', 'N', 'N', 'F', 'F', 'N'),\n",
       " ('F', 'N', 'N', 'N', 'F', 'F', 'F'),\n",
       " ('F', 'N', 'N', 'F', 'N', 'N', 'N'),\n",
       " ('F', 'N', 'N', 'F', 'N', 'N', 'F'),\n",
       " ('F', 'N', 'N', 'F', 'N', 'F', 'N'),\n",
       " ('F', 'N', 'N', 'F', 'N', 'F', 'F'),\n",
       " ('F', 'N', 'N', 'F', 'F', 'N', 'N'),\n",
       " ('F', 'N', 'N', 'F', 'F', 'N', 'F'),\n",
       " ('F', 'N', 'N', 'F', 'F', 'F', 'N'),\n",
       " ('F', 'N', 'N', 'F', 'F', 'F', 'F'),\n",
       " ('F', 'N', 'F', 'N', 'N', 'N', 'N'),\n",
       " ('F', 'N', 'F', 'N', 'N', 'N', 'F'),\n",
       " ('F', 'N', 'F', 'N', 'N', 'F', 'N'),\n",
       " ('F', 'N', 'F', 'N', 'N', 'F', 'F'),\n",
       " ('F', 'N', 'F', 'N', 'F', 'N', 'N'),\n",
       " ('F', 'N', 'F', 'N', 'F', 'N', 'F'),\n",
       " ('F', 'N', 'F', 'N', 'F', 'F', 'N'),\n",
       " ('F', 'N', 'F', 'N', 'F', 'F', 'F'),\n",
       " ('F', 'N', 'F', 'F', 'N', 'N', 'N'),\n",
       " ('F', 'N', 'F', 'F', 'N', 'N', 'F'),\n",
       " ('F', 'N', 'F', 'F', 'N', 'F', 'N'),\n",
       " ('F', 'N', 'F', 'F', 'N', 'F', 'F'),\n",
       " ('F', 'N', 'F', 'F', 'F', 'N', 'N'),\n",
       " ('F', 'N', 'F', 'F', 'F', 'N', 'F'),\n",
       " ('F', 'N', 'F', 'F', 'F', 'F', 'N'),\n",
       " ('F', 'N', 'F', 'F', 'F', 'F', 'F'),\n",
       " ('F', 'F', 'N', 'N', 'N', 'N', 'N'),\n",
       " ('F', 'F', 'N', 'N', 'N', 'N', 'F'),\n",
       " ('F', 'F', 'N', 'N', 'N', 'F', 'N'),\n",
       " ('F', 'F', 'N', 'N', 'N', 'F', 'F'),\n",
       " ('F', 'F', 'N', 'N', 'F', 'N', 'N'),\n",
       " ('F', 'F', 'N', 'N', 'F', 'N', 'F'),\n",
       " ('F', 'F', 'N', 'N', 'F', 'F', 'N'),\n",
       " ('F', 'F', 'N', 'N', 'F', 'F', 'F'),\n",
       " ('F', 'F', 'N', 'F', 'N', 'N', 'N'),\n",
       " ('F', 'F', 'N', 'F', 'N', 'N', 'F'),\n",
       " ('F', 'F', 'N', 'F', 'N', 'F', 'N'),\n",
       " ('F', 'F', 'N', 'F', 'N', 'F', 'F'),\n",
       " ('F', 'F', 'N', 'F', 'F', 'N', 'N'),\n",
       " ('F', 'F', 'N', 'F', 'F', 'N', 'F'),\n",
       " ('F', 'F', 'N', 'F', 'F', 'F', 'N'),\n",
       " ('F', 'F', 'N', 'F', 'F', 'F', 'F'),\n",
       " ('F', 'F', 'F', 'N', 'N', 'N', 'N'),\n",
       " ('F', 'F', 'F', 'N', 'N', 'N', 'F'),\n",
       " ('F', 'F', 'F', 'N', 'N', 'F', 'N'),\n",
       " ('F', 'F', 'F', 'N', 'N', 'F', 'F'),\n",
       " ('F', 'F', 'F', 'N', 'F', 'N', 'N'),\n",
       " ('F', 'F', 'F', 'N', 'F', 'N', 'F'),\n",
       " ('F', 'F', 'F', 'N', 'F', 'F', 'N'),\n",
       " ('F', 'F', 'F', 'N', 'F', 'F', 'F'),\n",
       " ('F', 'F', 'F', 'F', 'N', 'N', 'N'),\n",
       " ('F', 'F', 'F', 'F', 'N', 'N', 'F'),\n",
       " ('F', 'F', 'F', 'F', 'N', 'F', 'N'),\n",
       " ('F', 'F', 'F', 'F', 'N', 'F', 'F'),\n",
       " ('F', 'F', 'F', 'F', 'F', 'N', 'N'),\n",
       " ('F', 'F', 'F', 'F', 'F', 'N', 'F'),\n",
       " ('F', 'F', 'F', 'F', 'F', 'F', 'N'),\n",
       " ('F', 'F', 'F', 'F', 'F', 'F', 'F')]"
      ]
     },
     "execution_count": 9,
     "metadata": {},
     "output_type": "execute_result"
    }
   ],
   "source": [
    "#item 2\n",
    "possibilidades = [\"N\", \"F\"]\n",
    "prob = {\"N\": 0.95, \"F\":0.05}\n",
    "arranjos = itertools.product(possibilidades, repeat=7)\n",
    "espaco_amostral = list(arranjos)\n",
    "espaco_amostral"
   ]
  },
  {
   "cell_type": "code",
   "execution_count": 10,
   "metadata": {
    "collapsed": false
   },
   "outputs": [
    {
     "data": {
      "text/plain": [
       "[0.6983372960937497,\n",
       " 0.03675459453124999,\n",
       " 0.03675459453124999,\n",
       " 0.0019344523437499997,\n",
       " 0.03675459453125,\n",
       " 0.0019344523437500002,\n",
       " 0.0019344523437499997,\n",
       " 0.00010181328125,\n",
       " 0.03675459453124999,\n",
       " 0.0019344523437499997,\n",
       " 0.0019344523437499997,\n",
       " 0.00010181328125,\n",
       " 0.0019344523437499997,\n",
       " 0.00010181328125,\n",
       " 0.00010181328125,\n",
       " 5.358593750000001e-06,\n",
       " 0.03675459453124999,\n",
       " 0.0019344523437499997,\n",
       " 0.0019344523437499997,\n",
       " 0.00010181328125,\n",
       " 0.0019344523437499997,\n",
       " 0.00010181328125,\n",
       " 0.00010181328125,\n",
       " 5.358593750000001e-06,\n",
       " 0.0019344523437499997,\n",
       " 0.00010181328125,\n",
       " 0.00010181328125,\n",
       " 5.358593750000001e-06,\n",
       " 0.00010181328125,\n",
       " 5.358593750000001e-06,\n",
       " 5.35859375e-06,\n",
       " 2.8203125e-07,\n",
       " 0.03675459453124999,\n",
       " 0.0019344523437499997,\n",
       " 0.0019344523437499997,\n",
       " 0.00010181328125,\n",
       " 0.0019344523437499997,\n",
       " 0.00010181328125,\n",
       " 0.00010181328125,\n",
       " 5.358593750000001e-06,\n",
       " 0.0019344523437499997,\n",
       " 0.00010181328125,\n",
       " 0.00010181328125,\n",
       " 5.358593750000001e-06,\n",
       " 0.00010181328125,\n",
       " 5.358593750000001e-06,\n",
       " 5.35859375e-06,\n",
       " 2.8203125e-07,\n",
       " 0.0019344523437500002,\n",
       " 0.00010181328125000002,\n",
       " 0.00010181328125000001,\n",
       " 5.358593750000001e-06,\n",
       " 0.00010181328125000001,\n",
       " 5.358593750000001e-06,\n",
       " 5.358593750000001e-06,\n",
       " 2.820312500000001e-07,\n",
       " 0.00010181328125000001,\n",
       " 5.358593750000001e-06,\n",
       " 5.358593750000001e-06,\n",
       " 2.820312500000001e-07,\n",
       " 5.358593750000001e-06,\n",
       " 2.820312500000001e-07,\n",
       " 2.820312500000001e-07,\n",
       " 1.4843750000000007e-08,\n",
       " 0.03675459453124999,\n",
       " 0.0019344523437499997,\n",
       " 0.0019344523437499997,\n",
       " 0.00010181328125,\n",
       " 0.0019344523437499997,\n",
       " 0.00010181328125,\n",
       " 0.00010181328125,\n",
       " 5.358593750000001e-06,\n",
       " 0.0019344523437499997,\n",
       " 0.00010181328125,\n",
       " 0.00010181328125,\n",
       " 5.358593750000001e-06,\n",
       " 0.00010181328125,\n",
       " 5.358593750000001e-06,\n",
       " 5.35859375e-06,\n",
       " 2.8203125e-07,\n",
       " 0.0019344523437500002,\n",
       " 0.00010181328125000002,\n",
       " 0.00010181328125000001,\n",
       " 5.358593750000001e-06,\n",
       " 0.00010181328125000001,\n",
       " 5.358593750000001e-06,\n",
       " 5.358593750000001e-06,\n",
       " 2.820312500000001e-07,\n",
       " 0.00010181328125000001,\n",
       " 5.358593750000001e-06,\n",
       " 5.358593750000001e-06,\n",
       " 2.820312500000001e-07,\n",
       " 5.358593750000001e-06,\n",
       " 2.820312500000001e-07,\n",
       " 2.820312500000001e-07,\n",
       " 1.4843750000000007e-08,\n",
       " 0.0019344523437500002,\n",
       " 0.00010181328125000002,\n",
       " 0.00010181328125000001,\n",
       " 5.358593750000001e-06,\n",
       " 0.00010181328125000001,\n",
       " 5.358593750000001e-06,\n",
       " 5.358593750000001e-06,\n",
       " 2.820312500000001e-07,\n",
       " 0.00010181328125000001,\n",
       " 5.358593750000001e-06,\n",
       " 5.358593750000001e-06,\n",
       " 2.820312500000001e-07,\n",
       " 5.358593750000001e-06,\n",
       " 2.820312500000001e-07,\n",
       " 2.820312500000001e-07,\n",
       " 1.4843750000000007e-08,\n",
       " 0.00010181328125000001,\n",
       " 5.358593750000001e-06,\n",
       " 5.358593750000001e-06,\n",
       " 2.820312500000001e-07,\n",
       " 5.358593750000001e-06,\n",
       " 2.820312500000001e-07,\n",
       " 2.820312500000001e-07,\n",
       " 1.4843750000000007e-08,\n",
       " 5.358593750000001e-06,\n",
       " 2.820312500000001e-07,\n",
       " 2.820312500000001e-07,\n",
       " 1.4843750000000007e-08,\n",
       " 2.820312500000001e-07,\n",
       " 1.4843750000000007e-08,\n",
       " 1.4843750000000005e-08,\n",
       " 7.812500000000004e-10]"
      ]
     },
     "execution_count": 10,
     "metadata": {},
     "output_type": "execute_result"
    }
   ],
   "source": [
    "prob_linhas = []\n",
    "\n",
    "for res in espaco_amostral:\n",
    "    p = 1.0\n",
    "    for e in res:\n",
    "        p*=prob[e]\n",
    "    prob_linhas.append(p)\n",
    "\n",
    "prob_linhas"
   ]
  },
  {
   "cell_type": "code",
   "execution_count": 11,
   "metadata": {
    "collapsed": true
   },
   "outputs": [],
   "source": [
    "valores_X = {}\n",
    "for i in range(len(espaco_amostral)):\n",
    "    custo = espaco_amostral[i].count(\"F\")\n",
    "    # Checar antes se a chave está no dicionário\n",
    "    if custo in valores_X:\n",
    "        valores_X[custo] += prob_linhas[i]\n",
    "    else:\n",
    "        valores_X[custo] = prob_linhas[i]"
   ]
  },
  {
   "cell_type": "code",
   "execution_count": 12,
   "metadata": {
    "collapsed": false
   },
   "outputs": [
    {
     "name": "stdout",
     "output_type": "stream",
     "text": [
      "N° de resistores que falham:  0  Probabilidade 0.69834 \n",
      "N° de resistores que falham:  1  Probabilidade 0.25728 \n",
      "N° de resistores que falham:  2  Probabilidade 0.04062 \n",
      "N° de resistores que falham:  3  Probabilidade 0.00356 \n",
      "N° de resistores que falham:  4  Probabilidade 0.00019 \n",
      "N° de resistores que falham:  5  Probabilidade 0.00001 \n",
      "N° de resistores que falham:  6  Probabilidade 0.00000 \n",
      "N° de resistores que falham:  7  Probabilidade 0.00000 \n"
     ]
    }
   ],
   "source": [
    "for k in valores_X:\n",
    "    print(\"N° de resistores que falham: \", k, \" Probabilidade\", \"%6.5f \"%valores_X[k])"
   ]
  },
  {
   "cell_type": "code",
   "execution_count": 13,
   "metadata": {
    "collapsed": false
   },
   "outputs": [
    {
     "name": "stdout",
     "output_type": "stream",
     "text": [
      "Média: 0.35\n"
     ]
    }
   ],
   "source": [
    "esperanca = 0\n",
    "g = 0\n",
    "for z in valores_X:\n",
    "    esperanca+= valores_X[z] * z\n",
    "print (\"Média:\", esperanca)"
   ]
  },
  {
   "cell_type": "code",
   "execution_count": 14,
   "metadata": {
    "collapsed": false
   },
   "outputs": [
    {
     "name": "stdout",
     "output_type": "stream",
     "text": [
      "Variância: 0.3324999999999999\n"
     ]
    }
   ],
   "source": [
    "variancia = 0\n",
    "for i in valores_X:\n",
    "    variancia += ((i-esperanca)**2)*valores_X[i]\n",
    "print (\"Variância:\", variancia)"
   ]
  },
  {
   "cell_type": "code",
   "execution_count": 15,
   "metadata": {
    "collapsed": false
   },
   "outputs": [
    {
     "name": "stdout",
     "output_type": "stream",
     "text": [
      "0.5766281297335397\n"
     ]
    }
   ],
   "source": [
    "dp = variancia**(1/2)\n",
    "print (dp)"
   ]
  },
  {
   "cell_type": "code",
   "execution_count": null,
   "metadata": {
    "collapsed": true
   },
   "outputs": [],
   "source": []
  },
  {
   "cell_type": "code",
   "execution_count": null,
   "metadata": {
    "collapsed": true
   },
   "outputs": [],
   "source": []
  },
  {
   "cell_type": "code",
   "execution_count": null,
   "metadata": {
    "collapsed": true
   },
   "outputs": [],
   "source": []
  },
  {
   "cell_type": "markdown",
   "metadata": {
    "collapsed": true
   },
   "source": [
    "___\n",
    "## <font color='blue'>Exercício 2</font>\n",
    "\n",
    "Uma fábrica produz determinado veículo. O gerente de vendas fechou um negócio que implica na produção de pelo menos 110 unidades nos próximos dois meses. Para isso, será construída uma nova linha de montagem com capacidade para produzir em média 50 veículos por mês (considere meses de 30 dias). A linha funcionará ininterruptamente. Além disso, apenas um veículo é produzido por vez. Considere que um modelo Poisson seja adequado para a quantidade de veículos produzidos.\n",
    "   1. Qual a probabilidade  da produção ser igual a 100 veículos nos próximos dois meses?\n",
    "   2. Qual a probabilidade  da produção ser de pelo menos 100 veículos nos próximos dois meses?\n",
    "   3. Qual a probabilidade da produção ser entre 100 e 110 veículos nos próximos dois meses?\n",
    "   4. Se forem produzidos de pelo menos 100 veículos no próximo mês, qual a probabilidade do gerente cumprir a meta negociada?\n",
    "   5. Caso o prazo seja cumprido, o lucro será da ordem de $250$ mil, caso não seja, o lucro cai para $200$ mil. Qual é o lucro esperado e seu desvio-padrão?\n",
    "\n",
    "**Observação:** Explore os comandos de `stats.poisson`. <sup>[http://docs.scipy.org/doc/scipy/reference/generated/scipy.stats.poisson.html]\n"
   ]
  },
  {
   "cell_type": "code",
   "execution_count": null,
   "metadata": {
    "collapsed": true
   },
   "outputs": [],
   "source": []
  },
  {
   "cell_type": "markdown",
   "metadata": {},
   "source": [
    "___\n",
    "## <font color='blue'>Exercício 3</font> \n",
    "### <font color='red'>**Check para dia 13/09 em DUPLA **</font>\n",
    "\n",
    "Esse exercício irá explorar uma modelagem de dados reais.\n",
    "\n",
    "> **Confira alguns itens obrigatórios verificados durante a vistoria do Detran**\n",
    "\n",
    "> *Todos os veículos, novos ou velhos, precisam passar por uma vistoria todos os anos. (...) O motorista precisa estar atento a alguns itens obrigatórios. Tudo deve funcionar perfeitamente, apresentar bom estado de conservação e estar dentro do prazo de validade.*\n",
    "\n",
    "> <sup>Fonte: http://extra.globo.com/noticias/brasil/transito-seguro/confira-alguns-itens-obrigatorios-verificados-durante-vistoria-do-detran-10190355.html</sup>\n",
    "\n",
    "Essa matéria lista 14 itens que são inspecionados pelo Detran, dentre os quais têm-se: extintor de incêndio deve estar dentro do prazo de validade; pneus devem estar em bom estado de conservação; buzina deve funcionar perfeitamente; e cintos de segurança para todos os ocupantes do carro. Se, no final das contas, todos os 14 itens estiverem funcionando perfeitamente, o motorista irá feliz para casa assegurado de que seu carro está sem problemas com a vistoria.\n",
    "\n",
    "1. A base de dados `Carros.txt` apresenta, para cada um dos três mil carros de passeio vistoriados, duas informações: tipo de carro (1: Popular e 2: Não Popular) e quantidade de itens vistoriados em não conformidade (que pode variar de 0 a 14). \n",
    "    1. Considerando todos os carros, analise a quantidade de itens vistoriados em não conformidade. Pela tabela de frequências relativas, calcule a média e variância dessa quantidade. Interprete-os.\n",
    "    2. Assuma que a variável *Quantidade de itens em não conformidade* possa ser ajustada pelo modelo Binomial com parâmetros $n=14$ e $p=0,10$. Interprete esses parâmetros para o problema em questão e, ainda, discuta se as propriedades da distribuição Binomial estão satisfeitas para o problema aqui me questão.\n",
    "    \n",
    "    **Independente da sua resposta anterior, considere que a distribuição binomial seja adequada para modelar a variável de interesse nos próximos itens!**\n",
    "    3. Utilizando o método `stats.binom.pmf`, obtenha a probabilidade de cada uma das quantidades de itens em não conformidade quando $n=14$ e $p=0,10$. Calcule o valor esperado e a variância da quantidade de itens em não conformidade utilizando o método `stats.binom.stats` e via resultado da Tabela 4.4 do Magalhães e Lima (pág. 125).\n",
    "    4. Compare as probabilidades teóricas com as frequências relativas observadas nos dados. Para isso, tem-se, por exemplo, as duas opções abaixo para comparar se os resultados empíricos se encaixam com o modelo teórico proposto. \n",
    "        - A primeira opção gráfica contrasta a frequência relativa e a probabilidade teórica para uma determinada quantidade de itens em não conformidade! Vide Figura 3.4 do livro Magalhães e Lima (pág. 87). Ou seja, essa opção contrasta a frequência relativa em um valor de $y$ e a probabilidade pontual $P(Y=y)$.\n",
    "        - A segunda contrasta a frequência relativa acumulada com a probabilidade acumulada até determinada quantidade de itens em não conformidade. Ou seja, compara a frequência relativa acumulada até $y$ com a probabilidade acumulada $P(Y\\leq y)$.\n",
    "    Construa os gráficos de acordo com as duas opções e refine sua conclusão quanto ao uso do modelo teórico para ajustar a variável em questão!\n",
    "    5. Na prática, qual a necessidade de um modelo probabilístico já que se têm os dados observados?\n",
    "    6. Considerando apenas os carros populares, o modelo Binomial com parâmetros $n=14$ e $p=0,10$ é adequado para ajustar a variável Quantidade de itens em não conformidade? Se sim, justifique; caso não, sugira novos valores para os parâmetros da distribuição ajuste aos dados."
   ]
  },
  {
   "cell_type": "code",
   "execution_count": 73,
   "metadata": {
    "collapsed": false
   },
   "outputs": [
    {
     "name": "stdout",
     "output_type": "stream",
     "text": [
      "Esperamos trabalhar no diretório\n",
      "C:\\Users\\Matheus\\Downloads\n"
     ]
    }
   ],
   "source": [
    "import os\n",
    "print('Esperamos trabalhar no diretório')\n",
    "print(os.getcwd())\n",
    "carros = pd.read_table('Carros.txt', sep=' ')"
   ]
  },
  {
   "cell_type": "code",
   "execution_count": 74,
   "metadata": {
    "collapsed": false
   },
   "outputs": [
    {
     "data": {
      "text/html": [
       "<div>\n",
       "<table border=\"1\" class=\"dataframe\">\n",
       "  <thead>\n",
       "    <tr style=\"text-align: right;\">\n",
       "      <th></th>\n",
       "      <th>Tipo</th>\n",
       "      <th>Quantidade</th>\n",
       "    </tr>\n",
       "  </thead>\n",
       "  <tbody>\n",
       "    <tr>\n",
       "      <th>count</th>\n",
       "      <td>3000.00000</td>\n",
       "      <td>3000.000000</td>\n",
       "    </tr>\n",
       "    <tr>\n",
       "      <th>mean</th>\n",
       "      <td>1.40000</td>\n",
       "      <td>1.371333</td>\n",
       "    </tr>\n",
       "    <tr>\n",
       "      <th>std</th>\n",
       "      <td>0.48998</td>\n",
       "      <td>1.256969</td>\n",
       "    </tr>\n",
       "    <tr>\n",
       "      <th>min</th>\n",
       "      <td>1.00000</td>\n",
       "      <td>0.000000</td>\n",
       "    </tr>\n",
       "    <tr>\n",
       "      <th>25%</th>\n",
       "      <td>1.00000</td>\n",
       "      <td>0.000000</td>\n",
       "    </tr>\n",
       "    <tr>\n",
       "      <th>50%</th>\n",
       "      <td>1.00000</td>\n",
       "      <td>1.000000</td>\n",
       "    </tr>\n",
       "    <tr>\n",
       "      <th>75%</th>\n",
       "      <td>2.00000</td>\n",
       "      <td>2.000000</td>\n",
       "    </tr>\n",
       "    <tr>\n",
       "      <th>max</th>\n",
       "      <td>2.00000</td>\n",
       "      <td>8.000000</td>\n",
       "    </tr>\n",
       "  </tbody>\n",
       "</table>\n",
       "</div>"
      ],
      "text/plain": [
       "             Tipo   Quantidade\n",
       "count  3000.00000  3000.000000\n",
       "mean      1.40000     1.371333\n",
       "std       0.48998     1.256969\n",
       "min       1.00000     0.000000\n",
       "25%       1.00000     0.000000\n",
       "50%       1.00000     1.000000\n",
       "75%       2.00000     2.000000\n",
       "max       2.00000     8.000000"
      ]
     },
     "execution_count": 74,
     "metadata": {},
     "output_type": "execute_result"
    }
   ],
   "source": [
    "carros.describe()"
   ]
  },
  {
   "cell_type": "code",
   "execution_count": 43,
   "metadata": {
    "collapsed": false
   },
   "outputs": [
    {
     "data": {
      "text/plain": [
       "Carros Populares        1800\n",
       "Carros Não populares    1200\n",
       "Name: Tipo, dtype: int64"
      ]
     },
     "execution_count": 43,
     "metadata": {},
     "output_type": "execute_result"
    }
   ],
   "source": [
    "Tipo = carros.Tipo.astype('category')\n",
    "Tipo.cat.categories = ('Carros Populares', 'Carros Não populares')\n",
    "Tipo.value_counts()"
   ]
  },
  {
   "cell_type": "code",
   "execution_count": 64,
   "metadata": {
    "collapsed": false
   },
   "outputs": [
    {
     "data": {
      "text/plain": [
       "1    0.316667\n",
       "0    0.288000\n",
       "2    0.221333\n",
       "3    0.108333\n",
       "4    0.046333\n",
       "5    0.015667\n",
       "6    0.002667\n",
       "7    0.000667\n",
       "8    0.000333\n",
       "Name: Quantidade, dtype: float64"
      ]
     },
     "execution_count": 64,
     "metadata": {},
     "output_type": "execute_result"
    }
   ],
   "source": [
    "carros.Quantidade.value_counts(True)"
   ]
  },
  {
   "cell_type": "markdown",
   "metadata": {},
   "source": [
    "A"
   ]
  },
  {
   "cell_type": "code",
   "execution_count": 65,
   "metadata": {
    "collapsed": false
   },
   "outputs": [
    {
     "name": "stdout",
     "output_type": "stream",
     "text": [
      "Média: 1.3713340000000003\n",
      "Variância: 1.5794490604440001\n"
     ]
    }
   ],
   "source": [
    "media = (0.316667+(2*0.221333)+(3*0.108333)+(4*0.046333)+(5*0.015667)+(6*0.002667)+(7*0.000667)+(8*0.000333))\n",
    "print('Média:', media)\n",
    "\n",
    "variancia = ((((0-media)**2)*0.288000)+(((1-media)**2)*0.316667)+(((2-media)**2)*0.221333)+(((3-media)**2)*0.108333)+\n",
    "            (((4-media)**2)*0.046333)+(((5-media)**2)*0.015667)+(((6-media)**2)*0.002667)+(((7-media)**2)*0.000667)+\n",
    "            (((8-media)**2)*0.000333))\n",
    "print('Variância:', variancia)"
   ]
  },
  {
   "cell_type": "markdown",
   "metadata": {},
   "source": [
    "B"
   ]
  },
  {
   "cell_type": "markdown",
   "metadata": {},
   "source": [
    "A distribuição binomial não serve para esse caso pois não está analizando uma única população/item, mas ainda sim é útil para nos fornecer um valor aproximado. Nesse caso, existem 14 condições diferentes, por isso o resultado não foi preciso."
   ]
  },
  {
   "cell_type": "markdown",
   "metadata": {},
   "source": [
    "C"
   ]
  },
  {
   "cell_type": "code",
   "execution_count": 66,
   "metadata": {
    "collapsed": false
   },
   "outputs": [
    {
     "name": "stdout",
     "output_type": "stream",
     "text": [
      "Média e variância: (array(1.4000000000000001), array(1.2600000000000002))\n"
     ]
    }
   ],
   "source": [
    "stats.binom.pmf(carros.Quantidade, 14, 0.1)\n",
    "mediavar = stats.binom.stats(14, 0.1, moments='mv')\n",
    "\n",
    "print(\"Média e variância:\",mediavar)"
   ]
  },
  {
   "cell_type": "code",
   "execution_count": 84,
   "metadata": {
    "collapsed": false
   },
   "outputs": [
    {
     "name": "stdout",
     "output_type": "stream",
     "text": [
      "Probabilidade de haver 0: 0.22876792455\n",
      "Probabilidade de haver 1: 0.355861215966\n",
      "Probabilidade de haver 2: 0.257010878198\n",
      "Probabilidade de haver 3: 0.114227056977\n",
      "Probabilidade de haver 4: 0.034902711854\n",
      "Probabilidade de haver 5: 0.00775615818978\n",
      "Probabilidade de haver 6: 0.00129269303163\n",
      "Probabilidade de haver 7: 0.00016415149608\n",
      "Probabilidade de haver 8: 1.595917323e-05\n",
      "Probabilidade de haver 9: 1.18216098e-06\n",
      "Probabilidade de haver 10: 6.567561e-08\n",
      "Probabilidade de haver 11: 2.65356e-09\n",
      "Probabilidade de haver 12: 7.371e-11\n",
      "Probabilidade de haver 13: 1.26e-12\n",
      "Probabilidade de haver 14: 1e-14\n"
     ]
    }
   ],
   "source": [
    "print('Probabilidade de haver 0:',stats.binom.pmf(0, 14, 0.1))\n",
    "print('Probabilidade de haver 1:', stats.binom.pmf(1, 14, 0.1))\n",
    "print('Probabilidade de haver 2:', stats.binom.pmf(2, 14, 0.1))\n",
    "print('Probabilidade de haver 3:', stats.binom.pmf(3, 14, 0.1))\n",
    "print('Probabilidade de haver 4:', stats.binom.pmf(4, 14, 0.1))\n",
    "print('Probabilidade de haver 5:', stats.binom.pmf(5, 14, 0.1))\n",
    "print('Probabilidade de haver 6:', stats.binom.pmf(6, 14, 0.1))\n",
    "print('Probabilidade de haver 7:', stats.binom.pmf(7, 14, 0.1))\n",
    "print('Probabilidade de haver 8:', stats.binom.pmf(8, 14, 0.1))\n",
    "print('Probabilidade de haver 9:', stats.binom.pmf(9, 14, 0.1))\n",
    "print('Probabilidade de haver 10:', stats.binom.pmf(10, 14, 0.1))\n",
    "print('Probabilidade de haver 11:', stats.binom.pmf(11, 14, 0.1))\n",
    "print('Probabilidade de haver 12:', stats.binom.pmf(12, 14, 0.1))\n",
    "print('Probabilidade de haver 13:', stats.binom.pmf(13, 14, 0.1))\n",
    "print('Probabilidade de haver 14:', stats.binom.pmf(14, 14, 0.1))"
   ]
  },
  {
   "cell_type": "code",
   "execution_count": 85,
   "metadata": {
    "collapsed": false
   },
   "outputs": [
    {
     "data": {
      "text/plain": [
       "(array(1.4000000000000001), array(1.2600000000000002))"
      ]
     },
     "execution_count": 85,
     "metadata": {},
     "output_type": "execute_result"
    }
   ],
   "source": [
    "stats.binom.stats(14, 0.1, moments=\"mv\")"
   ]
  },
  {
   "cell_type": "markdown",
   "metadata": {},
   "source": [
    "D"
   ]
  },
  {
   "cell_type": "code",
   "execution_count": 82,
   "metadata": {
    "collapsed": false
   },
   "outputs": [
    {
     "data": {
      "image/png": "[encoded data removed]",
      "text/plain": [
       "<matplotlib.figure.Figure at 0x27e2bc3ab70>"
      ]
     },
     "metadata": {},
     "output_type": "display_data"
    }
   ],
   "source": [
    "quant=carros.Quantidade.value_counts(True)\n",
    "x=[stats.binom.pmf(0, 14,0.1),stats.binom.pmf(1, 14,0.1),stats.binom.pmf(2, 14,0.1),stats.binom.pmf(3, 14,0.1),stats.binom.pmf(4, 14,0.1),\n",
    "   stats.binom.pmf(5, 14,0.1),stats.binom.pmf(6, 14,0.1),stats.binom.pmf(7, 14,0.1),stats.binom.pmf(8,14,0.1)]\n",
    "plt.plot(quant, 'bo')\n",
    "plt.plot(x,'bo', color='red')\n",
    "plt.legend(['Verdade','Desejada'])\n",
    "plt.show()"
   ]
  },
  {
   "cell_type": "code",
   "execution_count": 83,
   "metadata": {
    "collapsed": false
   },
   "outputs": [
    {
     "data": {
      "text/plain": [
       "2    0.295000\n",
       "1    0.283889\n",
       "3    0.166667\n",
       "0    0.149444\n",
       "4    0.072778\n",
       "5    0.026111\n",
       "6    0.004444\n",
       "7    0.001111\n",
       "8    0.000556\n",
       "Name: Quantidade, dtype: float64"
      ]
     },
     "execution_count": 83,
     "metadata": {},
     "output_type": "execute_result"
    }
   ],
   "source": [
    "carros.Quantidade[Tipo=='Carros Populares'].value_counts(True)"
   ]
  },
  {
   "cell_type": "markdown",
   "metadata": {},
   "source": [
    "E"
   ]
  },
  {
   "cell_type": "markdown",
   "metadata": {},
   "source": [
    "A vantagem é que o o modelo obtido a partir dos dados observados pode ser usado para um espaço amostral diferente!"
   ]
  },
  {
   "cell_type": "markdown",
   "metadata": {},
   "source": [
    "F"
   ]
  },
  {
   "cell_type": "code",
   "execution_count": 87,
   "metadata": {
    "collapsed": false
   },
   "outputs": [
    {
     "data": {
      "image/png": "[encoded data removed]",
      "text/plain": [
       "<matplotlib.figure.Figure at 0x27e2bbcdcc0>"
      ]
     },
     "metadata": {},
     "output_type": "display_data"
    }
   ],
   "source": [
    "a=carros.Quantidade[Tipo=='Carros Populares'].value_counts(True)\n",
    "b=[stats.binom.pmf(0, 14,0.13),stats.binom.pmf(1, 14,0.13),stats.binom.pmf(2, 14,0.13),stats.binom.pmf(3, 14,0.13),stats.binom.pmf(4, 14,0.13),\n",
    "   stats.binom.pmf(5, 14,0.13),stats.binom.pmf(6, 14,0.13),stats.binom.pmf(7, 14,0.13),stats.binom.pmf(8,14,0.13)]\n",
    "plt.plot(a, 'bo')\n",
    "plt.plot(b, 'ro')\n",
    "plt.legend(['Real','Esperada'])\n",
    "plt.show()"
   ]
  },
  {
   "cell_type": "code",
   "execution_count": 88,
   "metadata": {
    "collapsed": false
   },
   "outputs": [
    {
     "data": {
      "text/plain": [
       "(array(1.82), array(1.5834000000000001))"
      ]
     },
     "execution_count": 88,
     "metadata": {},
     "output_type": "execute_result"
    }
   ],
   "source": [
    "stats.binom.stats(14, 0.13, moments=\"mv\")"
   ]
  },
  {
   "cell_type": "code",
   "execution_count": null,
   "metadata": {
    "collapsed": true
   },
   "outputs": [],
   "source": []
  }
 ],
 "metadata": {
  "anaconda-cloud": {},
  "kernelspec": {
   "display_name": "Python [Root]",
   "language": "python",
   "name": "Python [Root]"
  },
  "language_info": {
   "codemirror_mode": {
    "name": "ipython",
    "version": 3
   },
   "file_extension": ".py",
   "mimetype": "text/x-python",
   "name": "python",
   "nbconvert_exporter": "python",
   "pygments_lexer": "ipython3",
   "version": "3.5.2"
  }
 },
 "nbformat": 4,
 "nbformat_minor": 0
}
